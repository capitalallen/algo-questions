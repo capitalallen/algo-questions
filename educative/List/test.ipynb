{
 "cells": [
  {
   "cell_type": "code",
   "execution_count": 3,
   "metadata": {},
   "outputs": [
    {
     "name": "stdout",
     "output_type": "stream",
     "text": [
      "[7, 6, 5, 4, 3, 2, 1]\n",
      "7\n",
      "6\n",
      "5\n",
      "4\n"
     ]
    },
    {
     "data": {
      "text/plain": [
       "[7, 1, 6, 2, 5, 3, 4]"
      ]
     },
     "execution_count": 3,
     "metadata": {},
     "output_type": "execute_result"
    }
   ],
   "source": [
    "def max_min(lst):\n",
    "    # Write your code here\n",
    "    if not lst:\n",
    "        return lst \n",
    "    ans = []\n",
    "    lst.sort(reverse=True)\n",
    "    print(lst)\n",
    "    large = True \n",
    "    while lst:\n",
    "        if large:\n",
    "            temp = lst.pop(0)\n",
    "            print(temp)\n",
    "            ans.append(temp)\n",
    "            large = False \n",
    "        else:\n",
    "            ans.append(lst.pop())\n",
    "            large = True \n",
    "    return ans \n",
    "lst = [1, 2, 3, 4, 5, 6, 7]\n",
    "max_min(lst)"
   ]
  },
  {
   "cell_type": "code",
   "execution_count": null,
   "metadata": {},
   "outputs": [],
   "source": []
  }
 ],
 "metadata": {
  "kernelspec": {
   "display_name": "Python 3",
   "language": "python",
   "name": "python3"
  },
  "language_info": {
   "codemirror_mode": {
    "name": "ipython",
    "version": 3
   },
   "file_extension": ".py",
   "mimetype": "text/x-python",
   "name": "python",
   "nbconvert_exporter": "python",
   "pygments_lexer": "ipython3",
   "version": "3.8.3"
  }
 },
 "nbformat": 4,
 "nbformat_minor": 4
}
